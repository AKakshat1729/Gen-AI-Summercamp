x= eval(input('Enter  the x value'))
y= eval(input('Enter  the y value'))
z=x+y
print(z)

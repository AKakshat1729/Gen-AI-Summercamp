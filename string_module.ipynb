{
 "cells": [
  {
   "cell_type": "markdown",
   "id": "63b17deb-6170-4011-9f26-d9cbca35dcd6",
   "metadata": {},
   "source": [
    "## Data Cleaning"
   ]
  },
  {
   "cell_type": "code",
   "execution_count": 2,
   "id": "4f5fbcfb-0fa2-4a41-bac4-aefd12a1a470",
   "metadata": {},
   "outputs": [],
   "source": [
    "import string as s"
   ]
  },
  {
   "cell_type": "code",
   "execution_count": 3,
   "id": "17251337-8e53-4aa1-9422-b90e0e67a783",
   "metadata": {},
   "outputs": [
    {
     "name": "stdout",
     "output_type": "stream",
     "text": [
      "abcdefghijklmnopqrstuvwxyz\n"
     ]
    }
   ],
   "source": [
    "print(s.ascii_lowercase)"
   ]
  },
  {
   "cell_type": "code",
   "execution_count": 4,
   "id": "1e633448-79f6-40a6-a1e5-11e3cf4b2767",
   "metadata": {},
   "outputs": [
    {
     "name": "stdout",
     "output_type": "stream",
     "text": [
      "Once Upon A Time We Are Young\n"
     ]
    }
   ],
   "source": [
    "name='once upon a time we are young'\n",
    "print(s.capwords(name))"
   ]
  },
  {
   "cell_type": "markdown",
   "id": "15b7314d-a93f-492a-9c9e-9aa8c418a86d",
   "metadata": {},
   "source": [
    "## Formatter class and template class\n",
    "\n",
    "## Importance of string module"
   ]
  },
  {
   "cell_type": "code",
   "execution_count": 6,
   "id": "cb7df787-f93b-4dd8-be21-33057e059b08",
   "metadata": {},
   "outputs": [],
   "source": [
    "from string import Formatter"
   ]
  },
  {
   "cell_type": "code",
   "execution_count": 7,
   "id": "880e9df6-0835-4ff9-9690-3f523065be99",
   "metadata": {},
   "outputs": [
    {
     "name": "stdout",
     "output_type": "stream",
     "text": [
      "Helllo, Mr Akshat,Your age is 26\n"
     ]
    }
   ],
   "source": [
    "formatter = Formatter()\n",
    "name='Akshat'\n",
    "age=26\n",
    "format_string=formatter.format('Helllo, Mr {},Your age is {}', name,age)\n",
    "print(format_string)\n"
   ]
  },
  {
   "cell_type": "code",
   "execution_count": 8,
   "id": "98090524-0647-47e8-b2b6-b23937eeaf8d",
   "metadata": {},
   "outputs": [
    {
     "name": "stdout",
     "output_type": "stream",
     "text": [
      "Hello  Mr Akshat welcome to Python session \n"
     ]
    }
   ],
   "source": [
    "print('Hello  Mr {} welcome to {} session '.format ('Akshat','Python'))# str.format()"
   ]
  },
  {
   "cell_type": "code",
   "execution_count": 9,
   "id": "3c21081f-13e6-4b6d-9fb0-15fbaa94fb6b",
   "metadata": {},
   "outputs": [
    {
     "name": "stdout",
     "output_type": "stream",
     "text": [
      "Hello  Mr Akshat welcome to Python session \n"
     ]
    }
   ],
   "source": [
    "print('Hello  Mr {0} welcome to {1} session '.format ('Akshat','Python'))# str.format()"
   ]
  },
  {
   "cell_type": "code",
   "execution_count": 10,
   "id": "c234c69e-62b0-4782-b2a9-66fd24eeccd4",
   "metadata": {},
   "outputs": [
    {
     "name": "stdout",
     "output_type": "stream",
     "text": [
      "Hello Mr chandan welcome to Java session\n"
     ]
    }
   ],
   "source": [
    "name = 'chandan'\n",
    "session='Java'\n",
    "print('Hello Mr {name} welcome to {session} session' .format(session=session,name=name)) #str.format() using varible or keyboard"
   ]
  },
  {
   "cell_type": "markdown",
   "id": "c425cc2c-1440-48bc-b01a-13ee27ea76fd",
   "metadata": {},
   "source": [
    "## Use of template class"
   ]
  },
  {
   "cell_type": "code",
   "execution_count": 11,
   "id": "d0162f47-42c8-4781-b13f-5e4d7b0a1254",
   "metadata": {},
   "outputs": [],
   "source": [
    "from string import Template "
   ]
  },
  {
   "cell_type": "code",
   "execution_count": 16,
   "id": "49dbc943-9f41-4bed-8fde-ec5f705e960a",
   "metadata": {},
   "outputs": [
    {
     "data": {
      "text/plain": [
       "'Hello Akshat kashyap'"
      ]
     },
     "execution_count": 16,
     "metadata": {},
     "output_type": "execute_result"
    }
   ],
   "source": [
    "tmp=Template('Hello $name') #here you can create your own variable placeholders\n",
    "parsed_string=tmp.substitute(name='Akshat kashyap')\n",
    "parsed_string"
   ]
  },
  {
   "cell_type": "code",
   "execution_count": 17,
   "id": "0acffe05-db01-45da-a1ad-725445fe49b3",
   "metadata": {},
   "outputs": [
    {
     "data": {
      "text/plain": [
       "'Hello @name'"
      ]
     },
     "execution_count": 17,
     "metadata": {},
     "output_type": "execute_result"
    }
   ],
   "source": [
    "tmp=Template('Hello @name') #here you can create your own variable placeholders\n",
    "parsed_string=tmp.substitute(name='Akshat kashyap')\n",
    "parsed_string"
   ]
  },
  {
   "cell_type": "code",
   "execution_count": 18,
   "id": "5f351967-29c1-4927-84a9-4830c4edb504",
   "metadata": {},
   "outputs": [],
   "source": [
    "email_message='Dear $customer , Your order no: #$order_id has been delivered.'"
   ]
  },
  {
   "cell_type": "code",
   "execution_count": 19,
   "id": "e9a47331-fee7-48e7-832b-dc7411b1336a",
   "metadata": {},
   "outputs": [
    {
     "name": "stdout",
     "output_type": "stream",
     "text": [
      "Dear Pavan Kumar , Your order no: #OIFIOAHDIOQWHD has been delivered.\n"
     ]
    }
   ],
   "source": [
    "t=Template(email_message)\n",
    "parsed_message=t.substitute(customer='Pavan Kumar',order_id='OIFIOAHDIOQWHD')\n",
    "print(parsed_message)"
   ]
  },
  {
   "cell_type": "markdown",
   "id": "d3eb5bcd-ec4a-4a67-a5f3-aaccde146885",
   "metadata": {},
   "source": [
    "## Use of Template class to makE db CONNECTIONS\n"
   ]
  },
  {
   "cell_type": "code",
   "execution_count": 20,
   "id": "45183d5e-7c57-4675-a6dc-06607811a06c",
   "metadata": {},
   "outputs": [
    {
     "ename": "SyntaxError",
     "evalue": "invalid syntax (1236208448.py, line 14)",
     "output_type": "error",
     "traceback": [
      "  \u001b[36mCell\u001b[39m\u001b[36m \u001b[39m\u001b[32mIn[20]\u001b[39m\u001b[32m, line 14\u001b[39m\n\u001b[31m    \u001b[39m\u001b[31mconfig=('host':'localhost','port':8888,'user':'admin','password':123456)\u001b[39m\n                  ^\n\u001b[31mSyntaxError\u001b[39m\u001b[31m:\u001b[39m invalid syntax\n"
     ]
    }
   ],
   "source": [
    "t=Template('''\n",
    "192.169.10.01\n",
    "host=$host\n",
    "port=$port\n",
    "user=$user\n",
    "password=$password\n",
    "\n",
    "\n",
    "\n",
    "\n",
    "''')\n",
    "\n",
    "\n",
    "config={'host':'localhost','port':8888,'user':'admin','password':123456}\n",
    "print(t.substitute(config))\n",
    "\n",
    "\n"
   ]
  },
  {
   "cell_type": "code",
   "execution_count": null,
   "id": "b3167e86-89e4-4cff-9ba0-e35dba289971",
   "metadata": {},
   "outputs": [],
   "source": []
  }
 ],
 "metadata": {
  "kernelspec": {
   "display_name": "Python 3 (ipykernel)",
   "language": "python",
   "name": "python3"
  },
  "language_info": {
   "codemirror_mode": {
    "name": "ipython",
    "version": 3
   },
   "file_extension": ".py",
   "mimetype": "text/x-python",
   "name": "python",
   "nbconvert_exporter": "python",
   "pygments_lexer": "ipython3",
   "version": "3.12.5"
  }
 },
 "nbformat": 4,
 "nbformat_minor": 5
}
